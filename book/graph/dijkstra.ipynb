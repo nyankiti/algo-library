{
 "cells": [
  {
   "cell_type": "markdown",
   "id": "d7765d03-3d00-4b6a-b58a-84ea8096396d",
   "metadata": {},
   "source": [
    "# ダイクストラ法\n",
    "SSP(Single Source Shortest Path) 単一始点対最短経路問題を解く方法の一つ。  \n",
    "### メリット\n",
    "無向グラフや閉路がある場合でも使える。\n",
    "### デメリット\n",
    "負の重みを持つグラフでは使えない => ベルマンフォード法を使う必要がある\n",
    "\n",
    "\n",
    "## アルゴリズムの流れ\n",
    "最短距離が確定している部分と繋がっている頂点の中で、最もコストが低くたどり着ける点を選んで、最短距離を確定させる。これを繰り返す\n",
    "\n",
    "`shortest_distance`に0から各頂点までの最短距離を記録  \n",
    "`kakutei`で各頂点の最短距離が確定済みかどうかを保存  \n",
    "`heap_data`に、確定済みの頂点と接する頂点の番号と始点からその頂点に辿り着くまでのコストを保存  \n",
    "\n",
    "1. 始点(i=0)のデータをheap_dataに入れて、最初の探索対象とする\n",
    "2. heap_dataから、次に確定させるべき頂点(確定済み頂点と接する頂点の中で、最もコストが低い頂点)の情報を取得\n",
    "3. 2で取得したデータを最短距離として、確定させる。\n",
    "4. 3で確定させた頂点から、移動可能な頂点と、移動コストをheap_dataに保存\n",
    "5. 全ての頂点が確定するまで、2-4を繰り返す\n",
    "\n",
    "### ポイント\n",
    "確定済み頂点と接する頂点の中で、最もコストが低い頂点を探す 2 のステップにおいて、計算量削減のため、heapq(優先度付きキュー)を用いている"
   ]
  },
  {
   "cell_type": "code",
   "execution_count": 1,
   "id": "049d58de-b6a4-48e3-87f9-c8ef5f1dd4a8",
   "metadata": {},
   "outputs": [],
   "source": [
    "import math\n",
    "from sys import stdin, setrecursionlimit\n",
    "import heapq\n",
    "\n",
    "setrecursionlimit(10**6)\n",
    "\n",
    "\n",
    "def dijkstra(graph):\n",
    "    N = len(graph)\n",
    "    shortest_distance = [math.inf]*N\n",
    "    kakutei = [False]*N\n",
    "    shortest_distance[0] = 0\n",
    "    # 現在確定済みの頂点から行けるノードの中で最もコストが低いノードを、heapq(優先度付きキュー)で管理する\n",
    "    heap_data = []\n",
    "    # heapqは先頭のデータをkeyとして大小比較を行なってくれる\n",
    "    heapq.heappush(heap_data, (shortest_distance[0], 0))\n",
    "    while len(heap_data) > 0:\n",
    "        curr_cost, pos = heapq.heappop(heap_data)\n",
    "\n",
    "        if kakutei[pos]:\n",
    "            continue\n",
    "\n",
    "        kakutei[pos] = True\n",
    "        for adj, adj_cost in graph[pos]:\n",
    "            if shortest_distance[adj] >= curr_cost+adj_cost:\n",
    "                shortest_distance[adj] = curr_cost+adj_cost\n",
    "                heapq.heappush(heap_data, (curr_cost+adj_cost, adj))\n",
    "    return shortest_distance\n",
    "\n",
    "\n",
    "def main():\n",
    "    N, M = map(int, stdin.readline().split())\n",
    "    graph = [[] for _ in range(N)]\n",
    "    for _ in range(M):\n",
    "        A, B, C = map(int, stdin.readline().split())\n",
    "        # [隣接先, cost] と重みを扱うしていく\n",
    "        graph[A-1].append([B-1, C])\n",
    "        graph[B-1].append([A-1, C])\n",
    "\n",
    "    shortest_distance = dijkstra(graph)\n",
    "    for val in shortest_distance:\n",
    "        print(val if val != math.inf else -1)\n"
   ]
  },
  {
   "cell_type": "code",
   "execution_count": null,
   "id": "bff5d21f-be70-4ce5-a4ed-b6da2dcf847d",
   "metadata": {},
   "outputs": [],
   "source": []
  }
 ],
 "metadata": {
  "kernelspec": {
   "display_name": "Python 3 (ipykernel)",
   "language": "python",
   "name": "python3"
  },
  "language_info": {
   "codemirror_mode": {
    "name": "ipython",
    "version": 3
   },
   "file_extension": ".py",
   "mimetype": "text/x-python",
   "name": "python",
   "nbconvert_exporter": "python",
   "pygments_lexer": "ipython3",
   "version": "3.9.12"
  }
 },
 "nbformat": 4,
 "nbformat_minor": 5
}
