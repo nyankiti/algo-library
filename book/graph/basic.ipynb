{
 "cells": [
  {
   "cell_type": "markdown",
   "id": "1c200423-83f3-489b-bf10-edd1f5ee679c",
   "metadata": {},
   "source": [
    "# グラフの様々な表現方法\n",
    "\n",
    "- Adjacency Matrices(隣接行列)　　グラフが密集している時(vertexの数が多い時)\n",
    "- Adjacency List(隣接配列)　グラフがスカスカな時(vertexの数が少ない時)"
   ]
  },
  {
   "cell_type": "code",
   "execution_count": null,
   "id": "786c6f32-c0bc-41ba-b052-316617d25cec",
   "metadata": {},
   "outputs": [],
   "source": []
  }
 ],
 "metadata": {
  "kernelspec": {
   "display_name": "Python 3 (ipykernel)",
   "language": "python",
   "name": "python3"
  },
  "language_info": {
   "codemirror_mode": {
    "name": "ipython",
    "version": 3
   },
   "file_extension": ".py",
   "mimetype": "text/x-python",
   "name": "python",
   "nbconvert_exporter": "python",
   "pygments_lexer": "ipython3",
   "version": "3.9.12"
  }
 },
 "nbformat": 4,
 "nbformat_minor": 5
}
