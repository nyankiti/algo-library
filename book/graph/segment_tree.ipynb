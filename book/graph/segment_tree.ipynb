{
 "cells": [
  {
   "cell_type": "markdown",
   "id": "9db0ee33-5c17-4c49-b0ee-97e6c1955bd2",
   "metadata": {},
   "source": [
    "# セグメント木\n",
    "「○○番目から△△番目までの要素の最大値を求めてください」 のような**区間に関するクエリを得意とするデータ構造**\n",
    "\n",
    "### 実装する際の特徴\n",
    "- セグメント木の要素数(大きさ)は、ターゲット N の数を超える最小の $2^x$ の数。  \n",
    "  N = 5 の時、 セグメント木のサイズは $2^3 = 8$\n",
    "- 一番上の要素の番号は1(0番目のデータは使わない)\n",
    "- 要素 u の左下の番号は 2u\n",
    "- 要素 u の右下の番号は 2u+1\n",
    "- 求めたい区間が与えられれば、それを含むセグメント木の中の大きい区間から順番に再帰的に探索する"
   ]
  },
  {
   "cell_type": "markdown",
   "id": "17c60c4e-0dc0-4211-a0f7-4f1fd64a042b",
   "metadata": {},
   "source": [
    "## RMQ(Range Maximum Querires)\n",
    "セグメント木で区間の最大値を記録しておく問題"
   ]
  },
  {
   "cell_type": "code",
   "execution_count": 1,
   "id": "55860607-3316-44c3-99bc-939ccb53d72b",
   "metadata": {},
   "outputs": [],
   "source": [
    "class SegmentTree:\n",
    "    def __init__(self):\n",
    "        self.dat = []\n",
    "        self.size = 1\n",
    "\n",
    "    def init(self, N):\n",
    "        self.size = 1\n",
    "        while self.size < N:\n",
    "            self.size *= 2\n",
    "        # Aは最初全ての要素が0\n",
    "        self.dat = [0]*(self.size*2)\n",
    "\n",
    "    def update(self, pos, x):\n",
    "        # self.size//2 以降が、最も下の要素(葉)である\n",
    "        pos = pos + self.size\n",
    "        self.dat[pos] = x\n",
    "        # 上のノードへの影響を反映する\n",
    "        while pos >= 2:\n",
    "            # 親ノードのindex\n",
    "            pos //= 2\n",
    "            # 二つの子ノードの大きい方を親ノードに反映する\n",
    "            self.dat[pos] = max(self.dat[pos*2], self.dat[pos*2+1])\n",
    "\n",
    "    # (l, r)は目標区間、(a, b)は現在調査中の区間、u はセル番号、\n",
    "    def query(self, l, r, a, b, u):\n",
    "        # print(l, r, a, b, u, self.dat[u])\n",
    "        # 全く含まれていない場合\n",
    "        if b <= l or r <= a:\n",
    "            return -math.inf\n",
    "        # 完全に含間れている場合\n",
    "        if l <= a and b <= r:\n",
    "            return self.dat[u]\n",
    "        mid = (a+b)//2\n",
    "        left_ans = self.query(l, r, a, mid, u*2)\n",
    "        right_ans = self.query(l, r, mid, b, u*2+1)\n",
    "        return max(left_ans, right_ans)\n",
    "\n",
    "\n",
    "def main():\n",
    "    N, Q = map(int, stdin.readline().split())\n",
    "\n",
    "    seg_tree = SegmentTree()\n",
    "    seg_tree.init(N)\n",
    "\n",
    "    for _ in range(Q):\n",
    "        *query, = map(int, stdin.readline().split())\n",
    "        if query[0] == 1:\n",
    "            pos, x = query[1], query[2]\n",
    "            seg_tree.update(pos-1, x)\n",
    "        elif query[0] == 2:\n",
    "            l, r = query[1], query[2]\n",
    "            ans = seg_tree.query(l-1, r-1, 0, seg_tree.size, 1)\n",
    "            print(ans)"
   ]
  },
  {
   "cell_type": "markdown",
   "id": "d053d6ff-adb3-4e39-9338-6a196172a946",
   "metadata": {},
   "source": [
    "## RSQ(Range Sum Querires)\n",
    "セグメント木で区間の和を記録しておく問題"
   ]
  },
  {
   "cell_type": "code",
   "execution_count": 2,
   "id": "14054734-8f80-4d58-9cd1-b25646564d2e",
   "metadata": {},
   "outputs": [],
   "source": [
    "class SegmentTree:\n",
    "    def __init__(self):\n",
    "        self.dat = []\n",
    "        self.size = 1\n",
    "\n",
    "    def init(self, N):\n",
    "        self.size = 1\n",
    "        while self.size < N:\n",
    "            self.size *= 2\n",
    "        # Aは最初全ての要素が0\n",
    "        self.dat = [0]*(self.size*2)\n",
    "\n",
    "    def update(self, pos, x):\n",
    "        # self.size//2 以降が、最も下の要素(葉)である\n",
    "        pos = pos + self.size\n",
    "        self.dat[pos] = x\n",
    "        # 上のノードへの影響を反映する\n",
    "        while pos >= 2:\n",
    "            # 親ノードのindex\n",
    "            pos //= 2\n",
    "            # 二つの子ノードの大きい方を親ノードに反映する\n",
    "            self.dat[pos] = self.dat[pos*2] + self.dat[pos*2+1]\n",
    "\n",
    "    # (l, r)は目標区間、(a, b)は現在調査中の区間、u はセル番号、\n",
    "    def query(self, l, r, a, b, u):\n",
    "        # print(l, r, a, b, u, self.dat[u])\n",
    "        # 全く含まれていない場合\n",
    "        if b <= l or r <= a:\n",
    "            return 0\n",
    "        # 完全に含間れている場合\n",
    "        if l <= a and b <= r:\n",
    "            return self.dat[u]\n",
    "        mid = (a+b)//2\n",
    "        left_ans = self.query(l, r, a, mid, u*2)\n",
    "        right_ans = self.query(l, r, mid, b, u*2+1)\n",
    "        return left_ans+right_ans\n",
    "\n",
    "\n",
    "def main():\n",
    "    N, Q = map(int, stdin.readline().split())\n",
    "\n",
    "    seg_tree = SegmentTree()\n",
    "    seg_tree.init(N)\n",
    "\n",
    "    for _ in range(Q):\n",
    "        *query, = map(int, stdin.readline().split())\n",
    "        if query[0] == 1:\n",
    "            pos, x = query[1], query[2]\n",
    "            seg_tree.update(pos-1, x)\n",
    "        elif query[0] == 2:\n",
    "            l, r = query[1], query[2]\n",
    "            ans = seg_tree.query(l-1, r-1, 0, seg_tree.size, 1)\n",
    "            print(ans)"
   ]
  },
  {
   "cell_type": "code",
   "execution_count": null,
   "id": "bb59e292-b90f-43bb-b2fe-c56aa0e7337e",
   "metadata": {},
   "outputs": [],
   "source": []
  }
 ],
 "metadata": {
  "kernelspec": {
   "display_name": "Python 3 (ipykernel)",
   "language": "python",
   "name": "python3"
  },
  "language_info": {
   "codemirror_mode": {
    "name": "ipython",
    "version": 3
   },
   "file_extension": ".py",
   "mimetype": "text/x-python",
   "name": "python",
   "nbconvert_exporter": "python",
   "pygments_lexer": "ipython3",
   "version": "3.9.12"
  },
  "vscode": {
   "interpreter": {
    "hash": "31f2aee4e71d21fbe5cf8b01ff0e069b9275f58929596ceb00d14d90e3e16cd6"
   }
  }
 },
 "nbformat": 4,
 "nbformat_minor": 5
}
