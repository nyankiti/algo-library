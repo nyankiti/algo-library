{
 "cells": [
  {
   "cell_type": "markdown",
   "id": "d5724c56-02b3-4101-a452-03405b6b4ff3",
   "metadata": {},
   "source": [
    "# Union Find木\n",
    "グループ分けを効率的に管理できるデータ構造。  \n",
    "グループごとに根付き木を構成し、その根同士を効率的に結合していくことで、グループを管理する。  \n",
    "あるノードが同じグループかどうかを検証するには、そのノードの根が同じかどうかを判定する"
   ]
  },
  {
   "cell_type": "code",
   "execution_count": 2,
   "id": "5d9c534d-8761-4796-8525-38a7063336c4",
   "metadata": {},
   "outputs": [],
   "source": [
    "class UnionFind:\n",
    "    def __init__(self, n) -> None:\n",
    "        self.n = n\n",
    "        self.parent = [-1]*n\n",
    "        self.rank = [1]*n\n",
    "\n",
    "    # 親を探す\n",
    "    def find(self, v):\n",
    "        if self.parent[v] == -1:\n",
    "            return v\n",
    "        else:\n",
    "            return self.find(self.parent[v])\n",
    "\n",
    "    def is_same(self, x, y):\n",
    "        return self.find(x) == self.find(y)\n",
    "\n",
    "    def unite(self, x, y):\n",
    "        x_root = self.find(x)\n",
    "        y_root = self.find(y)\n",
    "\n",
    "        # 既に同じ周濠に属している場合\n",
    "        if x_root == y_root:\n",
    "            return False\n",
    "\n",
    "        # 結合の際に、rank数が高い方を親にすることで、findメソットの計算量がO(logN)まで削減することができる\n",
    "        if self.rank[x_root] > self.rank[y_root]:\n",
    "            x_root, y_root = y_root, x_root\n",
    "        if self.rank[x_root] == self.rank[y_root]:\n",
    "            self.rank[y_root] += 1\n",
    "        self.parent[x_root] = y_root\n",
    "\n",
    "def main():\n",
    "    N, Q = map(int, stdin.readline().split())\n",
    "    uf_tree = UnionFind(N)\n",
    "    for _ in range(Q):\n",
    "        t, u, v = map(lambda x: int(x)-1, stdin.readline().split())\n",
    "        if t == 0:\n",
    "            uf_tree.unite(u, v)\n",
    "        elif t == 1:\n",
    "            if uf_tree.find(u) == uf_tree.find(v):\n",
    "                print(\"Yes\")\n",
    "            else:\n",
    "                print(\"No\")\n"
   ]
  },
  {
   "cell_type": "markdown",
   "id": "5768182a-c297-4160-ad7b-f5d3891cc5d2",
   "metadata": {},
   "source": [
    "## Union by size\n",
    "根付き木同士を結合する際、**大きい方の木に、小さい方を取り組むように結合(union by size)**すると、  \n",
    "木が大きなることが避けられ、O(logN)時間で、ノードの根を取得することができる"
   ]
  },
  {
   "cell_type": "markdown",
   "id": "a038eca6-645c-45ea-b43e-fca0c7000677",
   "metadata": {},
   "source": [
    "## Union Findを使った有名アルゴリズム\n",
    "### Kruskal algorithm(クラスカル法)\n",
    "最小全域木(MST: Minimum spanning tree)を求めるためのアルゴリズム。全ての辺を、小さい順に並び替え、小さい方から、閉路を作らないようにUnion Findで管理しながら辺をつなげていくと、最小全域木が完成する。"
   ]
  },
  {
   "cell_type": "code",
   "execution_count": 1,
   "id": "869e6dc9-dc48-4c8d-b218-c27d12e303ca",
   "metadata": {},
   "outputs": [],
   "source": [
    "def main():\n",
    "    N, M = map(int, stdin.readline().split())\n",
    "    graph = [[] for _ in range(N)]\n",
    "    paths = []\n",
    "    for _ in range(M):\n",
    "        A, B, C = map(int, stdin.readline().split())\n",
    "        graph[A-1].append([B-1, C])\n",
    "        graph[B-1].append([A-1, C])\n",
    "        paths.append([A-1, B-1, C])\n",
    "\n",
    "    # Kruskal algorithm\n",
    "    # 辺を小さい順に並び替える\n",
    "    paths.sort(key=lambda x: x[2])\n",
    "    uf_tree = UnionFind(N)\n",
    "    ans = 0\n",
    "    # 小さい辺から順に、閉路を作らない場合に、その辺がMSTを作る辺として採用される。\n",
    "    for path in paths:\n",
    "        A, B, C = path\n",
    "        if uf_tree.is_same(A, B) == False:\n",
    "            ans += C\n",
    "            uf_tree.unite(A, B)\n",
    "\n",
    "    print(ans)\n"
   ]
  },
  {
   "cell_type": "code",
   "execution_count": null,
   "id": "bccd7864-897d-4356-99d7-0518a4cf2e8f",
   "metadata": {},
   "outputs": [],
   "source": []
  }
 ],
 "metadata": {
  "kernelspec": {
   "display_name": "Python 3 (ipykernel)",
   "language": "python",
   "name": "python3"
  },
  "language_info": {
   "codemirror_mode": {
    "name": "ipython",
    "version": 3
   },
   "file_extension": ".py",
   "mimetype": "text/x-python",
   "name": "python",
   "nbconvert_exporter": "python",
   "pygments_lexer": "ipython3",
   "version": "3.9.12"
  }
 },
 "nbformat": 4,
 "nbformat_minor": 5
}
