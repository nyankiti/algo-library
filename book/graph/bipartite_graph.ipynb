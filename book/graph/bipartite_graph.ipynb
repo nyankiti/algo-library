{
 "cells": [
  {
   "cell_type": "markdown",
   "id": "e4db4e9b-5266-4f7b-81c6-a6fe46b15cc9",
   "metadata": {},
   "source": [
    "# 二部グラフ"
   ]
  },
  {
   "cell_type": "markdown",
   "id": "39e669dd-4e7b-48f6-bfeb-06a72705bce3",
   "metadata": {},
   "source": [
    "グラフGの頂点集合V(G)を, $V_1$に属する頂点集合同士が隣接せず、$V_2$に属する頂点集合同士が隣接しないように${V_1, V_2}$に分割できるとき、Gを「**二部グラフ**」$V_1, V_2$ を**部集合**という。\n",
    "\n",
    "また、$V_1$の各頂点が$V_2$の全ての頂点と隣接している時、「**Gを完全二部グラフ**」という、\n",
    "\n",
    "## 二部グラフの特徴\n",
    "- どんな閉路を選んでも、$V_1$の頂点と$V_2$の頂点が互いに出てくるという\n",
    "- **奇閉路**を含まない(奇閉路のどこかで、同じ部集合に属する頂点が連続してしまうことから、異なる部集合の頂点が互いに出てくる二部グラフの特徴と矛盾していることがわかる)  \n",
    "<=>閉路は頂点が偶数個のときに限り2部グラフである。\n",
    "- マッチングの最適化問題でよく出てくる。\n",
    "- 2部グラフの最大マッチングは多項式時間で求められる。([最大フロー問題](https://ja.wikipedia.org/wiki/%E6%9C%80%E5%A4%A7%E3%83%95%E3%83%AD%E3%83%BC%E5%95%8F%E9%A1%8C)を参照。)\n",
    "- 木は2部グラフである。(木の高さが偶数のノードは$V_1$の集合、高さが奇数のノードは$V_2$の集合と分けると、$V_1$の頂点と$V_2$の頂点が交互に来ることからもわかる)\n",
    "- Königの定理：2部グラフにおいて、最大マッチングの辺数は最小点被覆の点数と等しい。"
   ]
  },
  {
   "cell_type": "code",
   "execution_count": 21,
   "id": "d3c72fe8-38e3-4cd9-a2ad-db95d196e18b",
   "metadata": {},
   "outputs": [
    {
     "data": {
      "image/png": "[encoded data removed]",
      "text/plain": [
       "<Figure size 576x288 with 1 Axes>"
      ]
     },
     "metadata": {},
     "output_type": "display_data"
    }
   ],
   "source": [
    "import matplotlib.pyplot as plt\n",
    "import networkx as nx\n",
    "\n",
    "G = nx.Graph()\n",
    "G.add_nodes_from([1,2,3,4,5,6])\n",
    "# 1, 2, 6を赤色、 3, 4, 5を青色の二部グラフとする\n",
    "ncolors = [\"red\",\"red\",\"blue\",\"blue\",\"blue\",\"red\"]\n",
    "G.add_edges_from([(1,3), (2,4), (2,5), (3,6), (3, 2), (1, 4)])\n",
    "\n",
    "pos = {1: (0, 0), 2: (1, 0), 3: (0, 1), 4: (1, 1), 5: (2, 1), 6: (2, 0),}\n",
    "\n",
    "plt.figure(figsize=(8,4))\n",
    "# 左がユーザ、右が食品、エッジの色が評価を示す\n",
    "nx.draw(G, pos=pos, node_color=ncolors, with_labels=True)\n",
    "plt.show()"
   ]
  },
  {
   "cell_type": "markdown",
   "id": "9a865fbb-8d34-4697-844d-b20e6f7dfda3",
   "metadata": {},
   "source": [
    "## 与えられたグラフが二部かどうかの判定\n",
    "DFSやBFS、Union-Find 木で解くことができる。(実装例はDFS)\n",
    "\n",
    "まず、DFS の始点となる頂点 v については白黒いずれに塗ってもよいです。ここでは白としてみます。そうすると\n",
    "\n",
    "- 白頂点に隣接した頂点は黒でなければならない\n",
    "- 黒頂点に隣接した頂点は白でなければならない\n",
    "\n",
    "という条件を基に探索する、隣ある頂点の色が連続してしまえが、そのグラフが二部グラフでないことが確定する、\n",
    "\n",
    "**color 配列を用意して、1(黒色), 0(白色), -1(未訪問) として管理すれば良い**"
   ]
  },
  {
   "cell_type": "code",
   "execution_count": 29,
   "id": "823399cd-2ad6-4816-852a-af731ab544d6",
   "metadata": {},
   "outputs": [],
   "source": [
    "from sys import stdin, setrecursionlimit\n",
    "from typing import Counter\n",
    "\n",
    "setrecursionlimit(10**6)\n",
    "\n",
    "\n",
    "def is_bipartite(graph):\n",
    "    N = len(graph)\n",
    "\n",
    "    # それぞれの頂点の色を判別するための配列。\n",
    "    # 1: 黒、0: 白、-1: 未訪問\n",
    "    colors = [-1]*N\n",
    "\n",
    "    # グラフが二部グラフかどうかのフラグ(この問題では木が与えられているので、グラフが二部グラフであることは確定している)\n",
    "    is_bipartite = True\n",
    "\n",
    "    def dfs(v, current_color=0):\n",
    "        colors[v] = current_color\n",
    "        for adjacent in graph[v]:\n",
    "            # 既に隣接頂点の色が決まっている場合\n",
    "            if colors[adjacent] != -1:\n",
    "                if colors[adjacent] == current_color:\n",
    "                    return False\n",
    "                continue\n",
    "\n",
    "            # 1-current_colorとすると、1と\n",
    "            if dfs(adjacent, 1-current_color) == False:\n",
    "                return False\n",
    "        return True\n",
    "\n",
    "    # 全ての辺を探索する\n",
    "    for v in range(N):\n",
    "        if colors[v] != -1:\n",
    "            continue\n",
    "        if dfs(v) == False:\n",
    "            is_bipartite = False\n",
    "\n",
    "    print(\"Yes\" if is_bipartite else \"No\")"
   ]
  },
  {
   "cell_type": "code",
   "execution_count": 31,
   "id": "bdca1e55-f229-47d5-b7d0-071a0c100d39",
   "metadata": {},
   "outputs": [
    {
     "name": "stdout",
     "output_type": "stream",
     "text": [
      "Yes\n"
     ]
    }
   ],
   "source": [
    "N = 6\n",
    "edges = [(1,3), (2,4), (2,5), (3,6), (3, 2), (1, 4)]\n",
    "# 同じ部集合に属する 3, 4 の間に辺を作ると二部グラフではなくなる。\n",
    "# edges = [(1,3), (2,4), (2,5), (3,6), (3, 2), (1, 4), (3, 4)]\n",
    "\n",
    "graph = [[] for _ in range(N)]\n",
    "for edge in edges:\n",
    "    graph[edge[0]-1].append(edge[1]-1)\n",
    "    graph[edge[1]-1].append(edge[0]-1)\n",
    "\n",
    "is_bipartite(graph)"
   ]
  },
  {
   "cell_type": "markdown",
   "id": "92118b47-88a7-4b65-9551-fbececb3b284",
   "metadata": {},
   "source": [
    "## 参考文献\n",
    "- https://qiita.com/drken/items/a803d4fc4a727e02f7ba\n",
    "- https://ja.wikipedia.org/wiki/2%E9%83%A8%E3%82%B0%E3%83%A9%E3%83%95"
   ]
  },
  {
   "cell_type": "code",
   "execution_count": null,
   "id": "c86a78d4-7743-4b4c-9b30-bd2459d6b913",
   "metadata": {},
   "outputs": [],
   "source": []
  }
 ],
 "metadata": {
  "kernelspec": {
   "display_name": "Python 3 (ipykernel)",
   "language": "python",
   "name": "python3"
  },
  "language_info": {
   "codemirror_mode": {
    "name": "ipython",
    "version": 3
   },
   "file_extension": ".py",
   "mimetype": "text/x-python",
   "name": "python",
   "nbconvert_exporter": "python",
   "pygments_lexer": "ipython3",
   "version": "3.9.12"
  }
 },
 "nbformat": 4,
 "nbformat_minor": 5
}
