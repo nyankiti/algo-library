{
 "cells": [
  {
   "cell_type": "markdown",
   "id": "0d89358c-b6ad-4d01-8b15-245628f37531",
   "metadata": {},
   "source": [
    "# 区間DP(Interval DP)"
   ]
  },
  {
   "cell_type": "markdown",
   "id": "397aa4e9-891f-4fe7-9a7e-005e340230bf",
   "metadata": {},
   "source": [
    "区間DPとは、区間を表す l, r を添字にもつDPのこと。  \n",
    "`𝑑𝑝[𝑙][𝑟]  := 区間 [ l, r ) について、最適な状況下での何かしらの値`  \n",
    "のようなDPを考えることが多い。  \n",
    "\n",
    "以下のように 狭い範囲から両方を広げるように遷移を考える。\n",
    "- 区間 [ l, r ) を更新する際に、[ l+1, r ) と [ l, r-1 ) などの左右から1つ増減させたものを確認する  \n",
    "\n",
    "**区間の除去、圧縮、合体**などが生じる問題で適用可能な場合が多い。"
   ]
  },
  {
   "cell_type": "markdown",
   "id": "6f20ede8-d6de-4080-b249-64ba5d82e36e",
   "metadata": {},
   "source": [
    "## Longest Subpalindrome 問題\n",
    "文字列の中から最長の回文を取り出す問題。(引用:鉄則本 問題B21)    \n",
    "例えば、\"tanabata\" から回文 \"aabaa\" を取り出す。\n",
    "```cpp\n",
    "/* macro */\n",
    "#define rep(i, a, n) for (int i = (a); i < (n); ++i)\n",
    "\n",
    "int main() {\n",
    "  static int N, dp[2009][2009];\n",
    "  string S;\n",
    "  cin >> N >> S;\n",
    "  // dp[l][r]: 文字列の l 文字目から r\n",
    "  // 文字目までが範囲になっているとき、既に最大何文字を回文として追加できているか\n",
    "  // dpの初期化(二文字連続する場合もあることに注意)\n",
    "  rep(i, 0, N + 1) dp[i][i] = 1;\n",
    "  rep(i, 0, N) {\n",
    "    if (S[i - 1] == S[i])\n",
    "      dp[i][i + 1] = 2;\n",
    "    else\n",
    "      dp[i][i + 1] = 1;\n",
    "  }\n",
    "  rep(LEN, 2, N) {\n",
    "    rep(l, 1, N - LEN + 1) {\n",
    "      int r = l + LEN;\n",
    "      if (S[l - 1] == S[r - 1]) {\n",
    "        dp[l][r] =\n",
    "            max({dp[l][r], dp[l + 1][r - 1] + 2, dp[l][r - 1], dp[l + 1][r]});\n",
    "      } else {\n",
    "        dp[l][r] = max({dp[l][r], dp[l][r - 1], dp[l + 1][r]});\n",
    "      }\n",
    "    }\n",
    "  }\n",
    "\n",
    "  cout << dp[1][N] << endl;\n",
    "  return 0;\n",
    "}\n",
    "\n",
    "```"
   ]
  },
  {
   "cell_type": "markdown",
   "id": "9c1f20a8-105c-49a9-b974-bc863c0a1ce3",
   "metadata": {},
   "source": [
    "## スライム結合問題\n",
    "横一列に並んだスライムを、隣り合わせに結合していく際の最小コストを求める問題。(引用: [DPコンテスト N](https://atcoder.jp/contests/dp/tasks/dp_n)) \n",
    "\n",
    "この問題では、 l から r の範囲を ある点 k で区切って`dp[l][r]`の最適な値を求める3重ループで解く。\n",
    "\n",
    "```cpp\n",
    "int main() {\n",
    "  int N;\n",
    "  static ll a[409], a_ruiseki[409], dp[409][409];\n",
    "  \n",
    "  cin >> N;\n",
    "  rep(i, 1, N + 1) cin >> a[i];\n",
    "  a_ruiseki[1] = a[1];\n",
    "  rep(i, 2, N + 1) a_ruiseki[i] = a_ruiseki[i - 1] + a[i];\n",
    "  // dpの初期化\n",
    "  rep(i, 1, N) dp[i][i + 1] = a[i] + a[i + 1];\n",
    " \n",
    "  // 探索\n",
    "  rep(LEN, 2, N) {\n",
    "    rep(l, 1, N - LEN + 1) {\n",
    "      int r = l + LEN;\n",
    "      dp[l][r] = (ll)1e18;\n",
    "      rep(k, l, r) {\n",
    "        // k を中心として、合体する時のコスト dp[l][k] + dp[k + 1][r] と、累積和によってその範囲の\n",
    "        // aを再び足すことによって、合計のコストがわかる\n",
    "        dp[l][r] = min(dp[l][r], dp[l][k] + dp[k + 1][r] + a_ruiseki[r] - a_ruiseki[l - 1]);\n",
    "      }\n",
    "    }\n",
    "  }\n",
    "  cout << dp[1][N] << endl;\n",
    "  return 0;\n",
    "}\n",
    "```"
   ]
  },
  {
   "cell_type": "markdown",
   "id": "41f7e1c6-8a03-49f6-8390-8fb9064e822e",
   "metadata": {},
   "source": [
    "#### 参考\n",
    "- [区間DP の考え方と使える状況まとめ(アルゴリズムロジック)](https://algo-logic.info/range-dp/)"
   ]
  }
 ],
 "metadata": {
  "kernelspec": {
   "display_name": "Python 3 (ipykernel)",
   "language": "python",
   "name": "python3"
  },
  "language_info": {
   "codemirror_mode": {
    "name": "ipython",
    "version": 3
   },
   "file_extension": ".py",
   "mimetype": "text/x-python",
   "name": "python",
   "nbconvert_exporter": "python",
   "pygments_lexer": "ipython3",
   "version": "3.9.12"
  }
 },
 "nbformat": 4,
 "nbformat_minor": 5
}
