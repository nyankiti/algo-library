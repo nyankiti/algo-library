{
 "cells": [
  {
   "cell_type": "markdown",
   "id": "a7377c3f-af09-424b-afdd-9a514f10e4c7",
   "metadata": {},
   "source": [
    "# LCS(Longest Common Subsequence)\n",
    "2つの文字列s,tが与えられる。  \n",
    "s,tの共通部分列であって、最長のものを1つ求めよ。  \n",
    "制約：|s|,|t|≤3∗103  \n",
    "\n",
    "## 解説　\n",
    "dp[i][j]=(sをi文字目、tをj文字目までみた時の最長共通部分列の長さ)  \n",
    "その後、具体的に文字列を作るにはDP配列を逆にたどる。"
   ]
  },
  {
   "cell_type": "code",
   "execution_count": 3,
   "id": "6a000703-0fe2-405d-9bf7-0abf33da1dc7",
   "metadata": {},
   "outputs": [
    {
     "name": "stdout",
     "output_type": "stream",
     "text": [
      "axb\n"
     ]
    }
   ],
   "source": [
    "def lcs(s, t):\n",
    "    len_s, len_t = len(s), len(t)\n",
    "\n",
    "    # sをi文字目、tをj文字目までみた時の最長共通部分列の長さ\n",
    "    dp = [[0]*(len_s+1) for _ in range(len_t+1)]\n",
    "\n",
    "    for i in range(1, len(t)+1):\n",
    "        for j in range(1, len(s)+1):\n",
    "            if t[i-1] == s[j-1]:\n",
    "                dp[i][j] = dp[i-1][j-1]+1\n",
    "            else:\n",
    "                dp[i][j] = max(dp[i-1][j], dp[i][j-1])\n",
    "\n",
    "    ans = []\n",
    "    i, j = len_t, len_s\n",
    "    while len(ans) < dp[-1][-1]:\n",
    "        if t[i-1] == s[j-1]:\n",
    "            ans.append(t[i-1])\n",
    "            i -= 1\n",
    "            j -= 1\n",
    "        elif dp[i][j-1] == dp[i][j]:\n",
    "            j -= 1\n",
    "        elif dp[i-1][j] == dp[i][j]:\n",
    "            i -= 1\n",
    "    print(\"\".join(ans[::-1]))\n",
    "\n",
    "\n",
    "\n",
    "lcs(\"axyb\", \"abyxb\")\n"
   ]
  },
  {
   "cell_type": "code",
   "execution_count": null,
   "id": "7d9fb02d-d53b-42bb-99ad-36ef84eb9c70",
   "metadata": {},
   "outputs": [],
   "source": []
  }
 ],
 "metadata": {
  "kernelspec": {
   "display_name": "Python 3 (ipykernel)",
   "language": "python",
   "name": "python3"
  },
  "language_info": {
   "codemirror_mode": {
    "name": "ipython",
    "version": 3
   },
   "file_extension": ".py",
   "mimetype": "text/x-python",
   "name": "python",
   "nbconvert_exporter": "python",
   "pygments_lexer": "ipython3",
   "version": "3.9.12"
  }
 },
 "nbformat": 4,
 "nbformat_minor": 5
}
