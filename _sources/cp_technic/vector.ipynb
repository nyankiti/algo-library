{
 "cells": [
  {
   "cell_type": "markdown",
   "id": "08b4cea0-fe40-4022-b532-4091900c5817",
   "metadata": {},
   "source": [
    "# vector\n",
    "座標の問題が出てきた場合、それぞれの点をこのVectorクラスとして使うと便利"
   ]
  },
  {
   "cell_type": "code",
   "execution_count": 8,
   "id": "f59c0cf0-2a88-4bb5-8a59-94df75a5661f",
   "metadata": {},
   "outputs": [],
   "source": [
    "from typing import List\n",
    "\n",
    "\n",
    "class Vec():\n",
    "    def __init__(self, x, y) -> None:\n",
    "        self.x = x\n",
    "        self.y = y\n",
    "    \n",
    "    def __add__(self, vec_A: \"Vec\"):\n",
    "        return Vec(self.x+vec_A.x, self.y+vec_A.y)\n",
    "\n",
    "    def __sub__(self, vec_A: \"Vec\"):\n",
    "        return Vec(self.x-vec_A.x, self.y-vec_A.y)\n",
    "\n",
    "    # 外積 (cross product)\n",
    "    def cross(self, vec_A: \"Vec\") -> int:\n",
    "        return self.x*vec_A.y - self.y * vec_A.x\n",
    "    \n",
    "    # 内積 (dot product)\n",
    "    def dot(self, vec_A: \"Vec\") -> int:\n",
    "        return self.x*vec_A.x + self.y*vec_A.y\n",
    "\n",
    "    # counter clock wise\n",
    "    def ccw(self, vec_A: \"Vec\") -> int:\n",
    "        area = self.cross(vec_A)\n",
    "        if area > 0:  # ccw 反時計回り\n",
    "            return 1\n",
    "        elif area < 0:  # cw 時計回り\n",
    "            return -1\n",
    "        else:  # collinear 一直線上\n",
    "            return 0"
   ]
  },
  {
   "cell_type": "markdown",
   "id": "b76ffe82-2b71-4c88-a9fb-7648f3ffc3a2",
   "metadata": {},
   "source": [
    "### CCW(counter clock wise)\n",
    "二つのベクトルの外積によって求まる、2ベクトルが作る平行四辺形の面積が、正 or 負 によって、二つのベクトルの位置関係(時計周りか、反時計回りか)を返す"
   ]
  },
  {
   "cell_type": "code",
   "execution_count": 10,
   "id": "a5384833-3600-4a57-ac36-3cc92b0328c7",
   "metadata": {},
   "outputs": [
    {
     "name": "stdout",
     "output_type": "stream",
     "text": [
      "-1 1\n",
      "-5\n"
     ]
    }
   ],
   "source": [
    "vecA = Vec(1, 4)\n",
    "vecB = Vec(2, 3)\n",
    "\n",
    "added = vecA - vecB\n",
    "print(added.x, added.y)\n",
    "print(vecA.cross(vecB))"
   ]
  },
  {
   "cell_type": "code",
   "execution_count": null,
   "id": "4ced5b3a-114b-428f-8bfc-0ec85ac8cc6f",
   "metadata": {},
   "outputs": [],
   "source": []
  }
 ],
 "metadata": {
  "kernelspec": {
   "display_name": "Python 3 (ipykernel)",
   "language": "python",
   "name": "python3"
  },
  "language_info": {
   "codemirror_mode": {
    "name": "ipython",
    "version": 3
   },
   "file_extension": ".py",
   "mimetype": "text/x-python",
   "name": "python",
   "nbconvert_exporter": "python",
   "pygments_lexer": "ipython3",
   "version": "3.9.12"
  },
  "vscode": {
   "interpreter": {
    "hash": "31f2aee4e71d21fbe5cf8b01ff0e069b9275f58929596ceb00d14d90e3e16cd6"
   }
  }
 },
 "nbformat": 4,
 "nbformat_minor": 5
}
