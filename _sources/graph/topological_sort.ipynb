{
 "cells": [
  {
   "cell_type": "markdown",
   "id": "0aed1562-d645-4bb0-99a0-d535044607c0",
   "metadata": {},
   "source": [
    "# トポロジカルソート\n",
    "## トポロジカルソートできる条件\n",
    "\n",
    "グラフが**有向非巡回グラフ（directed acyclic graph, DAG）**であること!\n",
    "\n",
    "### DAGが満たすべき具体的な条件\n",
    "\n",
    "頂点uから頂点vに到達できることを、R(u,v)と書くとします。  \n",
    "\n",
    "すべての頂点u,vについて R(u,v)かつ R(v,u)ならば u=v が成り立つ、かつその時に限り、その有向グラフをトポロジカルソートすることが出来ます。(つまり、ある頂点から出発して、その頂点に戻ってくるような路がない)\n",
    "\n",
    "### トポロジカルソートの有用性\n",
    "もしこの有向グラフの頂点がタスクを表し、グラフの有向辺がタスク同士の依存関係を表していた場合、  \n",
    "トポロジカルソート後の順番に対応するタスクを処理すれば、依存関係を守ったままタスクを全て処理することが出来ます。\n",
    "\n",
    "\n",
    "\n",
    "※ トポロジカルソートの答えは複数あるので注意"
   ]
  },
  {
   "cell_type": "code",
   "execution_count": 123,
   "id": "ceecb3be-8012-4455-99c2-47c9e3a2b6c4",
   "metadata": {},
   "outputs": [
    {
     "data": {
      "image/png": "[encoded data removed]",
      "text/plain": [
       "<Figure size 720x216 with 2 Axes>"
      ]
     },
     "metadata": {},
     "output_type": "display_data"
    }
   ],
   "source": [
    "import matplotlib.pyplot as plt\n",
    "from matplotlib.patches import ConnectionStyle\n",
    "import networkx as nx\n",
    "\n",
    "# Graphオブジェクトの作成\n",
    "DG = nx.DiGraph()\n",
    "DG.add_edge(0, 1)\n",
    "DG.add_edge(0, 3)\n",
    "DG.add_edge(1, 3)\n",
    "DG.add_edge(2, 3)\n",
    "DG.add_edge(2, 4)\n",
    "DG.add_edge(4, 5)\n",
    "\n",
    "options = {\n",
    "    \"font_size\": 10,\n",
    "    \"node_size\": 400,\n",
    "    \"node_color\": \"white\",\n",
    "    \"edgecolors\": \"black\",\n",
    "    \"linewidths\": 2,\n",
    "    \"width\": 2,\n",
    "}\n",
    "\n",
    "# ソート前は適当に配置\n",
    "pos_before = {0: (-3, 0), 1: (0, 0), 2: (-1, 0.3), 3: (2, 0.17), 4: (4, 0.255), 5: (5, 0.03)}\n",
    "# トポロジカルソート後の配置\n",
    "pos_after = {0: (0, 0), 1: (8, 0), 2: (16, 0), 3: (24, 0), 4: (32, 0), 5: (40, 0)}\n",
    "\n",
    "\n",
    "# ax = plt.gca()\n",
    "# ax.margins(0.20)\n",
    "# plt.axis(\"off\")\n",
    "# plt.show()\n",
    "\n",
    "# トポロジカルソート前後を二つ並べる\n",
    "fig = plt.figure(figsize=(10, 3))\n",
    "# 左\n",
    "ax1 = fig.add_subplot(1, 2, 1)\n",
    "ax1.set_title('before')\n",
    "ax1.set_axis_off()\n",
    "ax1.margins(0.2)\n",
    "nx.draw_networkx(DG, pos=pos_before, ax=ax1, **options)\n",
    "# 右\n",
    "ax2 = fig.add_subplot(1, 2, 2)\n",
    "ax2.set_title('after')\n",
    "ax2.set_axis_off()\n",
    "ax2.margins(0.2)\n",
    "nx.draw_networkx(DG, pos_after, ax=ax2, **options, connectionstyle=\"arc3, rad=1\")"
   ]
  },
  {
   "cell_type": "markdown",
   "id": "13b2fb06-aacf-4933-8494-7f1757fef675",
   "metadata": {},
   "source": [
    "上のbefore, afterをみると、トポロジカルソートが依存関係のタスクを明示化することがわかる。  \n",
    "\n",
    "## トポロジカルソートの実装\n",
    "各ノードの入り次数を `indegrees` で管理し、入り次数が0の場合、依存関係の上にあることを利用して、入り次数を消去して、0になったものから `result` に追加していく"
   ]
  },
  {
   "cell_type": "code",
   "execution_count": 126,
   "id": "25cc53eb-b5b9-458b-9e03-8aeaf4fca3a2",
   "metadata": {},
   "outputs": [],
   "source": [
    "from collections import deque\n",
    "\"\"\"\n",
    "以下の操作を繰り返し、全ての頂点を取り除いた後に得られる配列がトポロジカルソートされている！\n",
    "1. 入次数0の頂点vを発見する。\n",
    "2. 頂点vを配列の末尾に追加する。\n",
    "3. 有向グラフから頂点vと、その頂点から出ている辺をすべて削除する\n",
    "\"\"\"\n",
    "\n",
    "def topological_sort(graph, indegrees):\n",
    "    result = []\n",
    "\n",
    "    dq = deque()\n",
    "    # 入り次数が 0 の頂点を記録する\n",
    "    for i, val in enumerate(indegrees):\n",
    "        if val == 0:\n",
    "            dq.append(i)\n",
    "\n",
    "    while dq:\n",
    "        v = dq.pop()\n",
    "\n",
    "        # その頂点と隣接している頂点の入り次数を減らし、0になればdqに追加する\n",
    "        for u in graph[v]:\n",
    "            indegrees[u] -= 1\n",
    "            if indegrees[u] == 0:\n",
    "                dq.append(u)\n",
    "\n",
    "        # 頂点 v を配列の末尾に追加する\n",
    "        result.append(v)\n",
    "\n",
    "    return result\n"
   ]
  },
  {
   "cell_type": "code",
   "execution_count": 127,
   "id": "135303bf-90e5-4fb9-97f6-58ef3f958adb",
   "metadata": {},
   "outputs": [
    {
     "name": "stdout",
     "output_type": "stream",
     "text": [
      "2 4 5 0 1 3\n"
     ]
    }
   ],
   "source": [
    "vertices, edges = 6, 6\n",
    "edges = [(0,1), (0,3), (1,3), (2,3), (2,4), (4,5)]\n",
    "graph = [[] for _ in range(vertices)]\n",
    "# 各頂点の入り次数を格納する配列\n",
    "indegrees = [0] * vertices\n",
    "\n",
    "for edge in edges:\n",
    "    # s から t への有向edgeが与えられる\n",
    "    s, t = edge\n",
    "    graph[s].append(t)\n",
    "    indegrees[t] += 1\n",
    "    \n",
    "ans = topological_sort(graph, indegrees)\n",
    "print(*ans)"
   ]
  },
  {
   "cell_type": "code",
   "execution_count": null,
   "id": "4b5374a1-aec8-427a-8038-affcae796562",
   "metadata": {},
   "outputs": [],
   "source": []
  }
 ],
 "metadata": {
  "kernelspec": {
   "display_name": "Python 3 (ipykernel)",
   "language": "python",
   "name": "python3"
  },
  "language_info": {
   "codemirror_mode": {
    "name": "ipython",
    "version": 3
   },
   "file_extension": ".py",
   "mimetype": "text/x-python",
   "name": "python",
   "nbconvert_exporter": "python",
   "pygments_lexer": "ipython3",
   "version": "3.9.12"
  },
  "vscode": {
   "interpreter": {
    "hash": "31f2aee4e71d21fbe5cf8b01ff0e069b9275f58929596ceb00d14d90e3e16cd6"
   }
  }
 },
 "nbformat": 4,
 "nbformat_minor": 5
}
