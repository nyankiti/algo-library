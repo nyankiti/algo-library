{
 "cells": [
  {
   "cell_type": "markdown",
   "id": "3175af49-05fb-41e7-b42c-0ceb173d60a6",
   "metadata": {
    "tags": []
   },
   "source": [
    "# オイラーグラフ(Eulerian graph)\n",
    "オイラーグラフとは，一筆書きしてもどってこれる，つまりある頂点から全ての辺を通ってもとの頂点にもどってくるような閉路が存在するグラフのことを言います（そのような閉路のことをオイラー閉路といいます）\n",
    "\n",
    "\n",
    "#### グラフがオイラーグラフである条件\n",
    "全ての頂点の次数が偶数\n",
    "\n",
    "#### グラフが準オイラーグラフである条件\n",
    "次数が奇数であるものがちょうど2つ  \n",
    "※スタートとゴールが異なるが一筆書きできるグラフを**準オイラーグラフ**\n",
    "\n",
    "\n",
    "\n",
    "### オイラー閉路(Eulerian path)の求め方\n",
    "[ABC213-D問題](https://atcoder.jp/contests/abc213/tasks/abc213_d)で出題された問題がオイラー閉路を求める問題そのもの。\n",
    "#### 問題文\n",
    "AtCoder 国には 1 から N の番号がついた N 個の都市と、1 から N−1 の番号がついた N−1 個の道路があります。  \n",
    "道路 i を通ると都市 $A_i$ と都市 $B_i$ の間を相互に移動することができます。全ての都市は道路を使って互いに行き来できることが保証されます。  \n",
    "高橋くんは都市 1 を出発し、次のルールで旅をします。  \n",
    "- いまいる都市と道路で直接つながっている都市のうち、まだ訪れたことがない都市が存在するとき、そのような都市のうち番号が最も小さい都市へ移動する\n",
    "- そのような都市が存在しないとき\n",
    "    - いまいる都市が都市 1 なら旅を終了する\n",
    "    - そうでないなら、いまいる都市を初めて訪れたときに直前にいた都市へ移動する\n",
    "高橋くんが旅の過程で訪れる都市を順に答えてください。\n",
    "\n",
    "\n",
    "#### 解法\n",
    "親以外をdfsしていくように書くのがポイント\n",
    "```cpp\n",
    "int N, A, B;\n",
    "vi G[200009];\n",
    "bool visited[200009];\n",
    "vi ans;\n",
    "\n",
    "void dfs(int v, int parent = -1) {\n",
    "  ans.push_back(v);\n",
    "  for (int adj : G[v]) {\n",
    "    if (adj == parent) continue;\n",
    "    dfs(adj, v);\n",
    "    ans.push_back(v);\n",
    "  }\n",
    "}\n",
    "\n",
    "int main() {\n",
    "  cin >> N;\n",
    "  rep(i, 1, N) {\n",
    "    cin >> A >> B;\n",
    "    G[A].push_back(B);\n",
    "    G[B].push_back(A);\n",
    "  }\n",
    "  rep(i, 1, N + 1) {\n",
    "    sort(G[i].begin(), G[i].end());\n",
    "    visited[i] = false;\n",
    "  }\n",
    "\n",
    "  dfs(1);\n",
    "\n",
    "  for (int val : ans) cout << val << endl;\n",
    "  return 0;\n",
    "}\n",
    "```\n",
    "\n",
    "\n",
    "### 参考\n",
    "- [オイラーグラフの定理（一筆書きできる条件）とその証明](https://manabitimes.jp/math/642 \"eulerian graph masuo\")"
   ]
  },
  {
   "cell_type": "code",
   "execution_count": null,
   "id": "7c5d1d34-4c61-4667-b7c9-f7889615bc04",
   "metadata": {},
   "outputs": [],
   "source": []
  }
 ],
 "metadata": {
  "kernelspec": {
   "display_name": "Python 3 (ipykernel)",
   "language": "python",
   "name": "python3"
  },
  "language_info": {
   "codemirror_mode": {
    "name": "ipython",
    "version": 3
   },
   "file_extension": ".py",
   "mimetype": "text/x-python",
   "name": "python",
   "nbconvert_exporter": "python",
   "pygments_lexer": "ipython3",
   "version": "3.9.12"
  }
 },
 "nbformat": 4,
 "nbformat_minor": 5
}
