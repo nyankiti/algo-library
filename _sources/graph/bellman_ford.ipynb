{
 "cells": [
  {
   "cell_type": "markdown",
   "id": "dd88c7cd-e5cf-469a-9bf3-b313b04517d4",
   "metadata": {},
   "source": [
    "# ベルマンフォード法\n",
    "SSP(Single Source Shortest Path) 単一始点対最短経路問題を解く方法の一つ。\n",
    "\n",
    "### メリット\n",
    "辺の重みが負の場合でも使える。\n",
    "\n",
    "### デメリット\n",
    "ダイクストラ法より遅い。(頂点数を V 、辺の数を E としたとき、計算量は O(|V||E|))  \n",
    "また、以下のような重みの和が負である閉路があると、無限ループしてしまうので、適用できない。"
   ]
  },
  {
   "cell_type": "code",
   "execution_count": 13,
   "id": "74dd6c82-d84f-4bee-a224-07ff4587c270",
   "metadata": {},
   "outputs": [
    {
     "data": {
      "image/png": "[encoded data removed]",
      "text/plain": [
       "<Figure size 432x288 with 1 Axes>"
      ]
     },
     "metadata": {},
     "output_type": "display_data"
    }
   ],
   "source": [
    "import matplotlib.pyplot as plt\n",
    "from matplotlib.patches import ConnectionStyle\n",
    "import networkx as nx\n",
    "\n",
    "# Graphオブジェクトの作成\n",
    "DG = nx.DiGraph()\n",
    "\n",
    "DG.add_weighted_edges_from([(0, 1, -8),(0, 3, 2),(1, 3, 5)])\n",
    "\n",
    "\n",
    "options = {\n",
    "    \"font_size\": 10,\n",
    "    \"node_size\": 400,\n",
    "    \"node_color\": \"white\",\n",
    "    \"edgecolors\": \"black\",\n",
    "    \"linewidths\": 2,\n",
    "    \"width\": 2,\n",
    "}\n",
    "\n",
    "# ソート前は適当に配置\n",
    "pos = {0: (-3, 0), 1: (0, 0), 2: (-1, 0.3), 3: (2, 0.17), 4: (4, 0.255), 5: (5, 0.03)}\n",
    "edge_labels = {(i, j): w['weight'] for i, j, w in DG.edges(data=True)} #エッジラベルの描画時に'weight'の表示を無くすための工夫\n",
    "\n",
    "nx.draw_networkx_nodes(DG, pos, node_size=500, node_color='white',edgecolors='black') #ノードを描画\n",
    "nx.draw_networkx_edges(DG, pos, width=1) #エッジを描画\n",
    "nx.draw_networkx_labels(DG, pos) #（ノードの）ラベルを描画\n",
    "nx.draw_networkx_edge_labels(DG, pos, edge_labels=edge_labels) #エッジのラベルを描画\n",
    "\n",
    "plt.show()"
   ]
  },
  {
   "cell_type": "markdown",
   "id": "749a7823-e9f1-406a-950b-ff81994fe57d",
   "metadata": {},
   "source": [
    "上のグラフ(閉路)は、重みの和が $2+5+(-8) = -1$であり、負であるので、ベルマンフォード法の手続きでは、無限に更新されていくことになる。  \n",
    "よって、ベルマンフォード法は重みの和が負である閉路に適用できない。\n",
    "\n",
    "### C++での実装\n",
    "```cpp\n",
    "#define INF 10000000\n",
    "\n",
    "struct Edge {\n",
    "    int from; // 出発点\n",
    "    int to;   // 行き先\n",
    "    int cost; // コスト\n",
    "};\n",
    "\n",
    "vector<int> BellmanFord(int V, const vector<Edge> &edges, int start, int goal) {\n",
    "    vector<int> dist(V, INF);\n",
    "    dist[start] = 0;\n",
    "    for (int i = 0; i < V; i++) {\n",
    "        for (auto e : edges) {\n",
    "            if (dist[e.from] + e.cost <= dist[e.to]) {\n",
    "                dist[e.to] = dist[e.from] + e.cost;\n",
    "                if (i == V - 1) { // 頂点の数と同じ回数ループすると、コストの和が負の閉路があるのでループをぬける\n",
    "                    cout << \"negative loop\" << endl;\n",
    "                    break;\n",
    "                }\n",
    "            }\n",
    "        }\n",
    "    }\n",
    "    return dist;\n",
    "}\n",
    "int main() {\n",
    "    int N, M, a, b, c;\n",
    "    cin >> N >> M;\n",
    "    vector<Edge> edges;\n",
    "    rep(i, 0, M) {\n",
    "        cin >> a >> b >> c;\n",
    "        edges.push_back({a - 1, b - 1, c}); // {b, c} として Edge Struct を省略して宣言している\n",
    "        edges.push_back({b - 1, a - 1, c}); // {b, c} として Edge Struct を省略して宣言している\n",
    "    }\n",
    "    // 初期化\n",
    "    vector<int> dist = BellmanFord(/*グラフの頂点数*/ N, /*辺*/ edges, /*始点*/ 0, /*終点*/ N - 1);\n",
    "    // rep(i, 1, N + 1) cout << (dist[i] == INF ? -1 : dist[i]) << endl;\n",
    "    for (int d : dist) {\n",
    "        cout << (d == INF ? -1 : d) << endl;\n",
    "    }\n",
    "    return 0;\n",
    "}\n",
    "```"
   ]
  },
  {
   "cell_type": "code",
   "execution_count": null,
   "id": "82a02d50-beef-47cb-bdd9-82dd21eb5bea",
   "metadata": {},
   "outputs": [],
   "source": []
  }
 ],
 "metadata": {
  "kernelspec": {
   "display_name": "Python 3 (ipykernel)",
   "language": "python",
   "name": "python3"
  },
  "language_info": {
   "codemirror_mode": {
    "name": "ipython",
    "version": 3
   },
   "file_extension": ".py",
   "mimetype": "text/x-python",
   "name": "python",
   "nbconvert_exporter": "python",
   "pygments_lexer": "ipython3",
   "version": "3.9.12"
  },
  "vscode": {
   "interpreter": {
    "hash": "31f2aee4e71d21fbe5cf8b01ff0e069b9275f58929596ceb00d14d90e3e16cd6"
   }
  }
 },
 "nbformat": 4,
 "nbformat_minor": 5
}
